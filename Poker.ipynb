{
 "cells": [
  {
   "cell_type": "code",
   "execution_count": 61,
   "id": "873e06d1",
   "metadata": {},
   "outputs": [
    {
     "name": "stdout",
     "output_type": "stream",
     "text": [
      "\n",
      " pair (Fraction(1964, 4165), 0.4715486194477791) \n",
      " three_of_a_kind (Fraction(94, 4165), 0.02256902761104442) \n",
      " flush (Fraction(33, 16660), 0.0019807923169267707) including royal flush and straight flush \n",
      " four_of_a_kind (Fraction(1, 4165), 0.00024009603841536616)\n"
     ]
    }
   ],
   "source": [
    "import itertools\n",
    "from fractions import Fraction\n",
    "\n",
    "suits = 'SHDC'\n",
    "ranks = '23456789TJQKA'\n",
    "deck  = char_cross(ranks, suits)\n",
    "hands = combos(deck, 5)\n",
    "\n",
    "def char_cross(A, B):\n",
    "    return {a + b \n",
    "        for a in A for b in B}\n",
    "\n",
    "def combos(items, n):\n",
    "    return {' '.join(combo) \n",
    "            for combo in itertools.combinations(items, n)}\n",
    "\n",
    "def such_that(predicate, collection): \n",
    "    return {e for e in collection if predicate(e)}\n",
    "\n",
    "# Some Texas Hold’em Poker-hand rankings from weakest to strongest\n",
    "\n",
    "def pair(hand):\n",
    "    return any(hand.count(rank) == 2 for rank in ranks)\n",
    "\n",
    "def three_of_a_kind(hand):\n",
    "    return any(hand.count(rank) == 3 for rank in ranks)\n",
    "\n",
    "def flush(hand):\n",
    "    return any(hand.count(suits) == 5 for suits in suits)\n",
    "\n",
    "def four_of_a_kind(hand):\n",
    "    return any(hand.count(rank) == 4 for rank in ranks) \n",
    "\n",
    "def P(event, sample_space): \n",
    "    if callable(event):\n",
    "        event = such_that(event, sample_space)\n",
    "    return (Fraction(len(event & sample_space), len(sample_space)), len(event & sample_space)/len(sample_space))\n",
    "\n",
    "print('\\n pair', P(pair, hands),\n",
    "      '\\n three_of_a_kind', P(three_of_a_kind, hands),\n",
    "      '\\n flush', P(flush, hands), 'including royal flush and straight flush',\n",
    "      '\\n four_of_a_kind', P(four_of_a_kind, hands))"
   ]
  }
 ],
 "metadata": {
  "kernelspec": {
   "display_name": "Python 3 (ipykernel)",
   "language": "python",
   "name": "python3"
  },
  "language_info": {
   "codemirror_mode": {
    "name": "ipython",
    "version": 3
   },
   "file_extension": ".py",
   "mimetype": "text/x-python",
   "name": "python",
   "nbconvert_exporter": "python",
   "pygments_lexer": "ipython3",
   "version": "3.9.12"
  }
 },
 "nbformat": 4,
 "nbformat_minor": 5
}
